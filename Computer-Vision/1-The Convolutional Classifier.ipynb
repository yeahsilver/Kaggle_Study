{
 "cells": [
  {
   "cell_type": "markdown",
   "id": "df58b59b",
   "metadata": {},
   "source": [
    "# The Convolutional Classifier\n",
    "## Introduction\n",
    "> 목표: 사람이 시각적으로 봄으로써 해결할 수 있는 문제들을 어떻게 뉴럴 네트워크가 이미지 데이터를 가지고 해결할 수 있는지\n",
    "- 해당 문제를 해결하기 위해 가장 적합한 방식: **Convolutional Neural Networks** (convnet 또는 CNN이라고 부름)\n",
    "    - **Convolution**: 해당 레이어가 가지고 있는 독창적인 구조를 이용한 수학적 연산\n",
    "- 위의 것을 가지고 이미지 분류 문제를 해결할 수 있음\n",
    "- 여기서 이미지 분류란 주어진 사진을 보고 컴퓨터가 해당 사진이 어떤사진인지를 학습시키는 것임"
   ]
  },
  {
   "cell_type": "markdown",
   "id": "fdadb003",
   "metadata": {},
   "source": [
    "## The Convolutional Classifier\n",
    "- Convnet은 이미지 분류를 위해 **convolutional base** 그리고 **dense head** 두가지의 파트로 나누어진다.\n",
    "![1-1](./images/1/1-1.png)"
   ]
  },
  {
   "cell_type": "markdown",
   "id": "a7cea342",
   "metadata": {},
   "source": [
    "- **Convolutional Base**\n",
    "    - 이미지로부터 특징을 추출해주는 역할\n",
    "    - convolution operation을 수행하는 레이어로 구성\n",
    "    - 하지만 종종 다른 종류의 레이어도 포함\n",
    "- **Dense Head**\n",
    "    - 이미지의 클래스를 결정하는 역할\n",
    "    - 주로 dense layer로 이루어져있고, droupout과 같은 다른 레이어도 포함하고 있는 경우도 존재함\n",
    "![image2](./images/1/1-2.png)"
   ]
  },
  {
   "cell_type": "markdown",
   "id": "c0fad6ea",
   "metadata": {},
   "source": [
    "## Training the Classifier\n",
    "- 트레이닝 시의 네트워크의 목적은 아래와 같다.\n",
    "    - 어떤 특성을 이미지에서 추출할 것인지 (base)\n",
    "    - 어떤 특성으로 클래스를 결정할 것인지 (head)\n",
    "\n",
    "- convnet의 경우 **미리 트레이닝된 모델의 base를 재사용**\n",
    "- 그리고 미리 트레이닝 된 base에 **트레이닝되지 않은 head를 붙힘.**\n",
    "- 즉, **특징 추출을 학습한 네트워크의 일부를 사용하고 분류를 위해 새로운 여러 레이어를 덧붙힘.**\n",
    "- head는 몇 개의 dense layer로 구성되어 있기 때문에, 상대적으로 적은 데이터로부터 정확한 분류기를 만들 수 있음.\n",
    "- 미리 트레이닝 된 모델을 사용하는 것은 transfer learning이라고 하고, 매우 효과적이라서 요즘 거의 모든 이미지 분류기에서 사용됨."
   ]
  },
  {
   "cell_type": "code",
   "execution_count": null,
   "id": "5d075f59",
   "metadata": {},
   "outputs": [],
   "source": []
  }
 ],
 "metadata": {
  "kernelspec": {
   "display_name": "Python 3 (ipykernel)",
   "language": "python",
   "name": "python3"
  },
  "language_info": {
   "codemirror_mode": {
    "name": "ipython",
    "version": 3
   },
   "file_extension": ".py",
   "mimetype": "text/x-python",
   "name": "python",
   "nbconvert_exporter": "python",
   "pygments_lexer": "ipython3",
   "version": "3.9.12"
  }
 },
 "nbformat": 4,
 "nbformat_minor": 5
}
